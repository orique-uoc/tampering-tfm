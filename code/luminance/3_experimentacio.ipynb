{
  "nbformat": 4,
  "nbformat_minor": 0,
  "metadata": {
    "colab": {
      "provenance": []
    },
    "kernelspec": {
      "name": "python3",
      "display_name": "Python 3"
    },
    "language_info": {
      "name": "python"
    }
  },
  "cells": [
    {
      "cell_type": "markdown",
      "source": [
        "**NOTES**\n",
        "\n",
        "Using this notebook with CASIAv2.0 dataset requires a runtime with at least 4Gb of system RAM and 64GB of disk. With a CPU runtime on Google Colab, it took around 5 minutes (or 0.006 compute units) to run the whole notebook.\n"
      ],
      "metadata": {
        "id": "RLnmlR7MRt5w"
      }
    },
    {
      "cell_type": "code",
      "source": [
        "!pip install tensorflow==2.15.0"
      ],
      "metadata": {
        "colab": {
          "base_uri": "https://localhost:8080/"
        },
        "id": "9px4gFuEP12z",
        "outputId": "c5e302a4-4c3b-4daa-eb56-de7a9d14eda0"
      },
      "execution_count": null,
      "outputs": [
        {
          "output_type": "stream",
          "name": "stdout",
          "text": [
            "Requirement already satisfied: tensorflow==2.15.0 in /usr/local/lib/python3.10/dist-packages (2.15.0)\n",
            "Requirement already satisfied: absl-py>=1.0.0 in /usr/local/lib/python3.10/dist-packages (from tensorflow==2.15.0) (1.4.0)\n",
            "Requirement already satisfied: astunparse>=1.6.0 in /usr/local/lib/python3.10/dist-packages (from tensorflow==2.15.0) (1.6.3)\n",
            "Requirement already satisfied: flatbuffers>=23.5.26 in /usr/local/lib/python3.10/dist-packages (from tensorflow==2.15.0) (24.3.25)\n",
            "Requirement already satisfied: gast!=0.5.0,!=0.5.1,!=0.5.2,>=0.2.1 in /usr/local/lib/python3.10/dist-packages (from tensorflow==2.15.0) (0.6.0)\n",
            "Requirement already satisfied: google-pasta>=0.1.1 in /usr/local/lib/python3.10/dist-packages (from tensorflow==2.15.0) (0.2.0)\n",
            "Requirement already satisfied: h5py>=2.9.0 in /usr/local/lib/python3.10/dist-packages (from tensorflow==2.15.0) (3.12.1)\n",
            "Requirement already satisfied: libclang>=13.0.0 in /usr/local/lib/python3.10/dist-packages (from tensorflow==2.15.0) (18.1.1)\n",
            "Requirement already satisfied: ml-dtypes~=0.2.0 in /usr/local/lib/python3.10/dist-packages (from tensorflow==2.15.0) (0.2.0)\n",
            "Requirement already satisfied: numpy<2.0.0,>=1.23.5 in /usr/local/lib/python3.10/dist-packages (from tensorflow==2.15.0) (1.26.4)\n",
            "Requirement already satisfied: opt-einsum>=2.3.2 in /usr/local/lib/python3.10/dist-packages (from tensorflow==2.15.0) (3.4.0)\n",
            "Requirement already satisfied: packaging in /usr/local/lib/python3.10/dist-packages (from tensorflow==2.15.0) (24.2)\n",
            "Requirement already satisfied: protobuf!=4.21.0,!=4.21.1,!=4.21.2,!=4.21.3,!=4.21.4,!=4.21.5,<5.0.0dev,>=3.20.3 in /usr/local/lib/python3.10/dist-packages (from tensorflow==2.15.0) (4.25.5)\n",
            "Requirement already satisfied: setuptools in /usr/local/lib/python3.10/dist-packages (from tensorflow==2.15.0) (75.1.0)\n",
            "Requirement already satisfied: six>=1.12.0 in /usr/local/lib/python3.10/dist-packages (from tensorflow==2.15.0) (1.17.0)\n",
            "Requirement already satisfied: termcolor>=1.1.0 in /usr/local/lib/python3.10/dist-packages (from tensorflow==2.15.0) (2.5.0)\n",
            "Requirement already satisfied: typing-extensions>=3.6.6 in /usr/local/lib/python3.10/dist-packages (from tensorflow==2.15.0) (4.12.2)\n",
            "Requirement already satisfied: wrapt<1.15,>=1.11.0 in /usr/local/lib/python3.10/dist-packages (from tensorflow==2.15.0) (1.14.1)\n",
            "Requirement already satisfied: tensorflow-io-gcs-filesystem>=0.23.1 in /usr/local/lib/python3.10/dist-packages (from tensorflow==2.15.0) (0.37.1)\n",
            "Requirement already satisfied: grpcio<2.0,>=1.24.3 in /usr/local/lib/python3.10/dist-packages (from tensorflow==2.15.0) (1.68.1)\n",
            "Requirement already satisfied: tensorboard<2.16,>=2.15 in /usr/local/lib/python3.10/dist-packages (from tensorflow==2.15.0) (2.15.2)\n",
            "Requirement already satisfied: tensorflow-estimator<2.16,>=2.15.0 in /usr/local/lib/python3.10/dist-packages (from tensorflow==2.15.0) (2.15.0)\n",
            "Requirement already satisfied: keras<2.16,>=2.15.0 in /usr/local/lib/python3.10/dist-packages (from tensorflow==2.15.0) (2.15.0)\n",
            "Requirement already satisfied: wheel<1.0,>=0.23.0 in /usr/local/lib/python3.10/dist-packages (from astunparse>=1.6.0->tensorflow==2.15.0) (0.45.1)\n",
            "Requirement already satisfied: google-auth<3,>=1.6.3 in /usr/local/lib/python3.10/dist-packages (from tensorboard<2.16,>=2.15->tensorflow==2.15.0) (2.27.0)\n",
            "Requirement already satisfied: google-auth-oauthlib<2,>=0.5 in /usr/local/lib/python3.10/dist-packages (from tensorboard<2.16,>=2.15->tensorflow==2.15.0) (1.2.1)\n",
            "Requirement already satisfied: markdown>=2.6.8 in /usr/local/lib/python3.10/dist-packages (from tensorboard<2.16,>=2.15->tensorflow==2.15.0) (3.7)\n",
            "Requirement already satisfied: requests<3,>=2.21.0 in /usr/local/lib/python3.10/dist-packages (from tensorboard<2.16,>=2.15->tensorflow==2.15.0) (2.32.3)\n",
            "Requirement already satisfied: tensorboard-data-server<0.8.0,>=0.7.0 in /usr/local/lib/python3.10/dist-packages (from tensorboard<2.16,>=2.15->tensorflow==2.15.0) (0.7.2)\n",
            "Requirement already satisfied: werkzeug>=1.0.1 in /usr/local/lib/python3.10/dist-packages (from tensorboard<2.16,>=2.15->tensorflow==2.15.0) (3.1.3)\n",
            "Requirement already satisfied: cachetools<6.0,>=2.0.0 in /usr/local/lib/python3.10/dist-packages (from google-auth<3,>=1.6.3->tensorboard<2.16,>=2.15->tensorflow==2.15.0) (5.5.0)\n",
            "Requirement already satisfied: pyasn1-modules>=0.2.1 in /usr/local/lib/python3.10/dist-packages (from google-auth<3,>=1.6.3->tensorboard<2.16,>=2.15->tensorflow==2.15.0) (0.4.1)\n",
            "Requirement already satisfied: rsa<5,>=3.1.4 in /usr/local/lib/python3.10/dist-packages (from google-auth<3,>=1.6.3->tensorboard<2.16,>=2.15->tensorflow==2.15.0) (4.9)\n",
            "Requirement already satisfied: requests-oauthlib>=0.7.0 in /usr/local/lib/python3.10/dist-packages (from google-auth-oauthlib<2,>=0.5->tensorboard<2.16,>=2.15->tensorflow==2.15.0) (1.3.1)\n",
            "Requirement already satisfied: charset-normalizer<4,>=2 in /usr/local/lib/python3.10/dist-packages (from requests<3,>=2.21.0->tensorboard<2.16,>=2.15->tensorflow==2.15.0) (3.4.0)\n",
            "Requirement already satisfied: idna<4,>=2.5 in /usr/local/lib/python3.10/dist-packages (from requests<3,>=2.21.0->tensorboard<2.16,>=2.15->tensorflow==2.15.0) (3.10)\n",
            "Requirement already satisfied: urllib3<3,>=1.21.1 in /usr/local/lib/python3.10/dist-packages (from requests<3,>=2.21.0->tensorboard<2.16,>=2.15->tensorflow==2.15.0) (2.2.3)\n",
            "Requirement already satisfied: certifi>=2017.4.17 in /usr/local/lib/python3.10/dist-packages (from requests<3,>=2.21.0->tensorboard<2.16,>=2.15->tensorflow==2.15.0) (2024.12.14)\n",
            "Requirement already satisfied: MarkupSafe>=2.1.1 in /usr/local/lib/python3.10/dist-packages (from werkzeug>=1.0.1->tensorboard<2.16,>=2.15->tensorflow==2.15.0) (3.0.2)\n",
            "Requirement already satisfied: pyasn1<0.7.0,>=0.4.6 in /usr/local/lib/python3.10/dist-packages (from pyasn1-modules>=0.2.1->google-auth<3,>=1.6.3->tensorboard<2.16,>=2.15->tensorflow==2.15.0) (0.6.1)\n",
            "Requirement already satisfied: oauthlib>=3.0.0 in /usr/local/lib/python3.10/dist-packages (from requests-oauthlib>=0.7.0->google-auth-oauthlib<2,>=0.5->tensorboard<2.16,>=2.15->tensorflow==2.15.0) (3.2.2)\n"
          ]
        }
      ]
    },
    {
      "cell_type": "code",
      "execution_count": null,
      "metadata": {
        "colab": {
          "base_uri": "https://localhost:8080/"
        },
        "id": "_-PcB4acKNUH",
        "outputId": "d9dfd43e-5411-481d-9b60-dcf12fd8095a"
      },
      "outputs": [
        {
          "output_type": "stream",
          "name": "stdout",
          "text": [
            "Drive already mounted at /content/gdrive; to attempt to forcibly remount, call drive.mount(\"/content/gdrive\", force_remount=True).\n"
          ]
        }
      ],
      "source": [
        "from google.colab import drive\n",
        "drive.mount('/content/gdrive')"
      ]
    },
    {
      "cell_type": "code",
      "source": [
        "import numpy as np\n",
        "from PIL import Image\n",
        "\n",
        "IMAGE_SIZE = (384, 256)\n",
        "\n",
        "def process_image(directory, file):\n",
        "    try:\n",
        "        image_filename = directory + '/' + file\n",
        "        image = Image.open(image_filename, 'r')\n",
        "        image = image.convert('L')\n",
        "        image = image.resize(IMAGE_SIZE, Image.LANCZOS)\n",
        "        data = image.getdata()\n",
        "        width, height = image.size\n",
        "        array = np.array(data, dtype=np.uint8).reshape((height, width, 1))\n",
        "        array = find_gradient(array)\n",
        "        return array.astype(np.uint8)\n",
        "    finally:\n",
        "        image.close()\n",
        "\n",
        "def find_gradient(image_array):\n",
        "    H, W, Ch = image_array.shape\n",
        "    gradient_array = np.zeros((H, W, 8), dtype=np.int16)  # Use int16 for intermediate calculations\n",
        "\n",
        "    # Define all 8 offsets\n",
        "    adjacent_offsets = [\n",
        "        (-1, -1), (-1, 0), (-1, 1),\n",
        "        ( 0, -1),          ( 0, 1),\n",
        "        ( 1, -1), ( 1, 0), ( 1, 1)\n",
        "    ]\n",
        "\n",
        "    # Calculate the gradient for each offset without padding\n",
        "    for k, (di, dj) in enumerate(adjacent_offsets):\n",
        "        shifted_i, shifted_j = slice(1 + di, H - 1 + di), slice(1 + dj, W - 1 + dj)\n",
        "        center_i, center_j = slice(1, H - 1), slice(1, W - 1)\n",
        "        # Compute absolute gradient and store in the gradient array\n",
        "        gradient_array[center_i, center_j, k] = np.abs(image_array[shifted_i, shifted_j, 0].astype(np.int16) - image_array[center_i, center_j, 0].astype(np.int16))\n",
        "\n",
        "    return gradient_array"
      ],
      "metadata": {
        "id": "VIQMNeKKMWr3"
      },
      "execution_count": null,
      "outputs": []
    },
    {
      "cell_type": "code",
      "source": [
        "import tensorflow as tf\n",
        "\n",
        "# Specify the path to the saved model file\n",
        "binary_classifier_model_path = \"/content/gdrive/MyDrive/TFM/binary_classifier_model_for_tampering_detection_based_on_luminance_gradient.keras\"\n",
        "\n",
        "# Load the model\n",
        "binary_classifier_model = tf.keras.models.load_model(binary_classifier_model_path)"
      ],
      "metadata": {
        "id": "IX3Xhm0UKaEZ"
      },
      "execution_count": null,
      "outputs": []
    },
    {
      "cell_type": "code",
      "source": [
        "from pathlib import Path\n",
        "import numpy as np\n",
        "import matplotlib.pyplot as plt\n",
        "\n",
        "EXPERIMENTATION_SET = []\n",
        "\n",
        "#directory = Path(\"/content/gdrive/My Drive/TFM/photos\")\n",
        "#directory = Path(\"/content/gdrive/My Drive/TFM/twitter\")\n",
        "directory = Path(\"/content/gdrive/My Drive/TFM/taken\")\n",
        "\n",
        "for path in directory.rglob(\"*\"):\n",
        "    if path.is_file():\n",
        "        dir_path = str(path.parent)  # Parent directory of the file\n",
        "        file_name = str(path.name)   # File name\n",
        "        if file_name.lower().endswith((\".jpg\", \".jpeg\", \".png\")):\n",
        "            EXPERIMENTATION_SET.append(process_image(dir_path, file_name))\n",
        "\n",
        "preds = binary_classifier_model.predict(np.array(EXPERIMENTATION_SET))\n",
        "binary_classes = (preds >= 0.37).astype(int)\n",
        "\n",
        "print(binary_classes)"
      ],
      "metadata": {
        "colab": {
          "base_uri": "https://localhost:8080/"
        },
        "id": "aIlKpY_vKr-u",
        "outputId": "6e3e975f-5a34-46ff-a280-441661af203a"
      },
      "execution_count": null,
      "outputs": [
        {
          "output_type": "stream",
          "name": "stdout",
          "text": [
            "1/1 [==============================] - 1s 1s/step\n",
            "[[1]\n",
            " [1]\n",
            " [1]\n",
            " [1]\n",
            " [1]\n",
            " [1]\n",
            " [1]\n",
            " [1]\n",
            " [0]\n",
            " [1]\n",
            " [0]\n",
            " [1]]\n"
          ]
        }
      ]
    },
    {
      "cell_type": "code",
      "source": [
        "from tensorflow.keras.models import load_model\n",
        "\n",
        "# Specify the path to the saved model file\n",
        "localizer_model_path = \"/content/gdrive/MyDrive/TFM/localizer_model_for_tampering_detection_based_on_luminance.keras\"\n",
        "\n",
        "# Load the model\n",
        "localizer_model = load_model(localizer_model_path)"
      ],
      "metadata": {
        "id": "avevQIs1Lf13"
      },
      "execution_count": null,
      "outputs": []
    },
    {
      "cell_type": "code",
      "source": [
        "import math\n",
        "from pathlib import Path\n",
        "import numpy as np\n",
        "import matplotlib.pyplot as plt\n",
        "\n",
        "EXPERIMENTATION_SET = []\n",
        "\n",
        "#directory = Path(\"/content/gdrive/My Drive/TFM/photos\")\n",
        "#cols = 3\n",
        "\n",
        "#directory = Path(\"/content/gdrive/My Drive/TFM/twitter\")\n",
        "#cols = 8\n",
        "\n",
        "directory = Path(\"/content/gdrive/My Drive/TFM/taken\")\n",
        "cols = 3\n",
        "\n",
        "# Assuming process_image(dir_path, file_name) is defined and processes the images\n",
        "i = 1\n",
        "for path in directory.rglob(\"*\"):\n",
        "    if path.is_file():\n",
        "        dir_path = str(path.parent)  # Parent directory of the file\n",
        "        file_name = str(path.name)   # File name\n",
        "        if file_name.lower().endswith((\".jpg\", \".jpeg\", \".png\")):\n",
        "            print(\"Image\", i, \":\", dir_path, \"/\", file_name)\n",
        "            i = i + 1\n",
        "            EXPERIMENTATION_SET.append(process_image(dir_path, file_name))\n",
        "\n",
        "# Predict and classify\n",
        "preds = localizer_model.predict(np.array(EXPERIMENTATION_SET))\n",
        "binary_classes = (preds >= 0.25).astype(int)\n",
        "\n",
        "# Calculate grid dimensions\n",
        "num_images = len(binary_classes)\n",
        "rows = math.ceil(num_images / cols)\n",
        "\n",
        "# Create the grid dynamically\n",
        "fig, axes = plt.subplots(rows, cols, figsize=(cols * 4, rows * 4))\n",
        "\n",
        "# Plot each image in its respective subplot\n",
        "for i, ax in enumerate(axes.flat):\n",
        "    if i < num_images:\n",
        "        ax.imshow(binary_classes[i], cmap='gray')  # Display the image (grayscale)\n",
        "        ax.axis('off')  # Turn off axes for better visualization\n",
        "        ax.set_title(f\"Image {i+1}\")  # Add a title for each image\n",
        "    else:\n",
        "        ax.axis('off')  # Turn off unused subplots\n",
        "\n",
        "# Adjust spacing between subplots\n",
        "plt.tight_layout()\n",
        "plt.show()"
      ],
      "metadata": {
        "id": "oS4XYUoGMAX6",
        "colab": {
          "base_uri": "https://localhost:8080/",
          "height": 1000
        },
        "outputId": "e0092432-c012-474e-a9c8-3ba4dba5e985"
      },
      "execution_count": null,
      "outputs": [
        {
          "output_type": "stream",
          "name": "stdout",
          "text": [
            "Image 1 : /content/gdrive/My Drive/TFM/taken / IMG_20240929_173324.jpg\n",
            "Image 2 : /content/gdrive/My Drive/TFM/taken / IMG_20241002_192651.jpg\n",
            "Image 3 : /content/gdrive/My Drive/TFM/taken / IMG_20241009_181508.jpg\n",
            "Image 4 : /content/gdrive/My Drive/TFM/taken / IMG_20241012_174248.jpg\n",
            "Image 5 : /content/gdrive/My Drive/TFM/taken / IMG_20241019_095853.jpg\n",
            "Image 6 : /content/gdrive/My Drive/TFM/taken / IMG_20241019_121942.jpg\n",
            "Image 7 : /content/gdrive/My Drive/TFM/taken / IMG_20241019_122055.jpg\n",
            "Image 8 : /content/gdrive/My Drive/TFM/taken / IMG_20241102_150638.jpg\n",
            "Image 9 : /content/gdrive/My Drive/TFM/taken / IMG_20241210_182503.jpg\n",
            "Image 10 : /content/gdrive/My Drive/TFM/taken / IMG_20241227_173455.jpg\n",
            "Image 11 : /content/gdrive/My Drive/TFM/taken / IMG_20241225_214023.jpg\n",
            "Image 12 : /content/gdrive/My Drive/TFM/taken / IMG_20250101_000750.jpg\n",
            "1/1 [==============================] - 14s 14s/step\n"
          ]
        },
        {
          "output_type": "display_data",
          "data": {
            "text/plain": [
              "<Figure size 1200x1600 with 12 Axes>"
            ],
            "image/png": "[encoded data removed]"
          },
          "metadata": {}
        }
      ]
    }
  ]
}